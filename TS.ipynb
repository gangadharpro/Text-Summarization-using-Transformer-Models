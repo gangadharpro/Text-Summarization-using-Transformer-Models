{
  "nbformat": 4,
  "nbformat_minor": 0,
  "metadata": {
    "colab": {
      "provenance": [],
      "authorship_tag": "ABX9TyPx46lLDxnCfz7FyqzvQv+N",
      "include_colab_link": true
    },
    "kernelspec": {
      "name": "python3",
      "display_name": "Python 3"
    },
    "language_info": {
      "name": "python"
    }
  },
  "cells": [
    {
      "cell_type": "markdown",
      "metadata": {
        "id": "view-in-github",
        "colab_type": "text"
      },
      "source": [
        "<a href=\"https://colab.research.google.com/github/gangadharpro/Text-Summarization-using-Transformer-Models/blob/main/Untitled11.ipynb\" target=\"_parent\"><img src=\"https://colab.research.google.com/assets/colab-badge.svg\" alt=\"Open In Colab\"/></a>"
      ]
    },
    {
      "cell_type": "code",
      "execution_count": 1,
      "metadata": {
        "id": "sYCuUK0j6p7u"
      },
      "outputs": [],
      "source": [
        "import pandas as pd\n",
        "import numpy as np\n",
        "import matplotlib.pyplot as plt\n",
        "import transformers\n",
        "from datasets import Dataset, DatasetDict\n",
        "import tensorflow as tf\n",
        "import os\n",
        "import re\n",
        "import math"
      ]
    },
    {
      "cell_type": "code",
      "source": [
        "test=pd.read_csv('test.csv')"
      ],
      "metadata": {
        "id": "CjvEbhRGDhkk"
      },
      "execution_count": 47,
      "outputs": []
    },
    {
      "cell_type": "code",
      "source": [
        "test.head()"
      ],
      "metadata": {
        "colab": {
          "base_uri": "https://localhost:8080/",
          "height": 293
        },
        "id": "wIKUqHkJDxmK",
        "outputId": "cc6bddd7-60ee-41fb-d5b1-17167c51821a"
      },
      "execution_count": 48,
      "outputs": [
        {
          "output_type": "execute_result",
          "data": {
            "text/plain": [
              "                                         id  \\\n",
              "0  92c514c913c0bdfe25341af9fd72b29db544099b   \n",
              "1  2003841c7dc0e7c5b1a248f9cd536d727f27a45a   \n",
              "2  91b7d2311527f5c2b63a65ca98d21d9c92485149   \n",
              "3  caabf9cbdf96eb1410295a673e953d304391bfbb   \n",
              "4  3da746a7d9afcaa659088c8366ef6347fe6b53ea   \n",
              "\n",
              "                                             article  \\\n",
              "0  Ever noticed how plane seats appear to be gett...   \n",
              "1  A drunk teenage boy had to be rescued by secur...   \n",
              "2  Dougie Freedman is on the verge of agreeing a ...   \n",
              "3  Liverpool target Neto is also wanted by PSG an...   \n",
              "4  Bruce Jenner will break his silence in a two-h...   \n",
              "\n",
              "                                          highlights  \n",
              "0  Experts question if  packed out planes are put...  \n",
              "1  Drunk teenage boy climbed into lion enclosure ...  \n",
              "2  Nottingham Forest are close to extending Dougi...  \n",
              "3  Fiorentina goalkeeper Neto has been linked wit...  \n",
              "4  Tell-all interview with the reality TV star, 6...  "
            ],
            "text/html": [
              "\n",
              "  <div id=\"df-bd26380e-bbd5-4a75-afee-c014ee6498b3\" class=\"colab-df-container\">\n",
              "    <div>\n",
              "<style scoped>\n",
              "    .dataframe tbody tr th:only-of-type {\n",
              "        vertical-align: middle;\n",
              "    }\n",
              "\n",
              "    .dataframe tbody tr th {\n",
              "        vertical-align: top;\n",
              "    }\n",
              "\n",
              "    .dataframe thead th {\n",
              "        text-align: right;\n",
              "    }\n",
              "</style>\n",
              "<table border=\"1\" class=\"dataframe\">\n",
              "  <thead>\n",
              "    <tr style=\"text-align: right;\">\n",
              "      <th></th>\n",
              "      <th>id</th>\n",
              "      <th>article</th>\n",
              "      <th>highlights</th>\n",
              "    </tr>\n",
              "  </thead>\n",
              "  <tbody>\n",
              "    <tr>\n",
              "      <th>0</th>\n",
              "      <td>92c514c913c0bdfe25341af9fd72b29db544099b</td>\n",
              "      <td>Ever noticed how plane seats appear to be gett...</td>\n",
              "      <td>Experts question if  packed out planes are put...</td>\n",
              "    </tr>\n",
              "    <tr>\n",
              "      <th>1</th>\n",
              "      <td>2003841c7dc0e7c5b1a248f9cd536d727f27a45a</td>\n",
              "      <td>A drunk teenage boy had to be rescued by secur...</td>\n",
              "      <td>Drunk teenage boy climbed into lion enclosure ...</td>\n",
              "    </tr>\n",
              "    <tr>\n",
              "      <th>2</th>\n",
              "      <td>91b7d2311527f5c2b63a65ca98d21d9c92485149</td>\n",
              "      <td>Dougie Freedman is on the verge of agreeing a ...</td>\n",
              "      <td>Nottingham Forest are close to extending Dougi...</td>\n",
              "    </tr>\n",
              "    <tr>\n",
              "      <th>3</th>\n",
              "      <td>caabf9cbdf96eb1410295a673e953d304391bfbb</td>\n",
              "      <td>Liverpool target Neto is also wanted by PSG an...</td>\n",
              "      <td>Fiorentina goalkeeper Neto has been linked wit...</td>\n",
              "    </tr>\n",
              "    <tr>\n",
              "      <th>4</th>\n",
              "      <td>3da746a7d9afcaa659088c8366ef6347fe6b53ea</td>\n",
              "      <td>Bruce Jenner will break his silence in a two-h...</td>\n",
              "      <td>Tell-all interview with the reality TV star, 6...</td>\n",
              "    </tr>\n",
              "  </tbody>\n",
              "</table>\n",
              "</div>\n",
              "    <div class=\"colab-df-buttons\">\n",
              "\n",
              "  <div class=\"colab-df-container\">\n",
              "    <button class=\"colab-df-convert\" onclick=\"convertToInteractive('df-bd26380e-bbd5-4a75-afee-c014ee6498b3')\"\n",
              "            title=\"Convert this dataframe to an interactive table.\"\n",
              "            style=\"display:none;\">\n",
              "\n",
              "  <svg xmlns=\"http://www.w3.org/2000/svg\" height=\"24px\" viewBox=\"0 -960 960 960\">\n",
              "    <path d=\"M120-120v-720h720v720H120Zm60-500h600v-160H180v160Zm220 220h160v-160H400v160Zm0 220h160v-160H400v160ZM180-400h160v-160H180v160Zm440 0h160v-160H620v160ZM180-180h160v-160H180v160Zm440 0h160v-160H620v160Z\"/>\n",
              "  </svg>\n",
              "    </button>\n",
              "\n",
              "  <style>\n",
              "    .colab-df-container {\n",
              "      display:flex;\n",
              "      gap: 12px;\n",
              "    }\n",
              "\n",
              "    .colab-df-convert {\n",
              "      background-color: #E8F0FE;\n",
              "      border: none;\n",
              "      border-radius: 50%;\n",
              "      cursor: pointer;\n",
              "      display: none;\n",
              "      fill: #1967D2;\n",
              "      height: 32px;\n",
              "      padding: 0 0 0 0;\n",
              "      width: 32px;\n",
              "    }\n",
              "\n",
              "    .colab-df-convert:hover {\n",
              "      background-color: #E2EBFA;\n",
              "      box-shadow: 0px 1px 2px rgba(60, 64, 67, 0.3), 0px 1px 3px 1px rgba(60, 64, 67, 0.15);\n",
              "      fill: #174EA6;\n",
              "    }\n",
              "\n",
              "    .colab-df-buttons div {\n",
              "      margin-bottom: 4px;\n",
              "    }\n",
              "\n",
              "    [theme=dark] .colab-df-convert {\n",
              "      background-color: #3B4455;\n",
              "      fill: #D2E3FC;\n",
              "    }\n",
              "\n",
              "    [theme=dark] .colab-df-convert:hover {\n",
              "      background-color: #434B5C;\n",
              "      box-shadow: 0px 1px 3px 1px rgba(0, 0, 0, 0.15);\n",
              "      filter: drop-shadow(0px 1px 2px rgba(0, 0, 0, 0.3));\n",
              "      fill: #FFFFFF;\n",
              "    }\n",
              "  </style>\n",
              "\n",
              "    <script>\n",
              "      const buttonEl =\n",
              "        document.querySelector('#df-bd26380e-bbd5-4a75-afee-c014ee6498b3 button.colab-df-convert');\n",
              "      buttonEl.style.display =\n",
              "        google.colab.kernel.accessAllowed ? 'block' : 'none';\n",
              "\n",
              "      async function convertToInteractive(key) {\n",
              "        const element = document.querySelector('#df-bd26380e-bbd5-4a75-afee-c014ee6498b3');\n",
              "        const dataTable =\n",
              "          await google.colab.kernel.invokeFunction('convertToInteractive',\n",
              "                                                    [key], {});\n",
              "        if (!dataTable) return;\n",
              "\n",
              "        const docLinkHtml = 'Like what you see? Visit the ' +\n",
              "          '<a target=\"_blank\" href=https://colab.research.google.com/notebooks/data_table.ipynb>data table notebook</a>'\n",
              "          + ' to learn more about interactive tables.';\n",
              "        element.innerHTML = '';\n",
              "        dataTable['output_type'] = 'display_data';\n",
              "        await google.colab.output.renderOutput(dataTable, element);\n",
              "        const docLink = document.createElement('div');\n",
              "        docLink.innerHTML = docLinkHtml;\n",
              "        element.appendChild(docLink);\n",
              "      }\n",
              "    </script>\n",
              "  </div>\n",
              "\n",
              "\n",
              "<div id=\"df-48e3c979-2d89-421d-94ef-4e9bd7b13b26\">\n",
              "  <button class=\"colab-df-quickchart\" onclick=\"quickchart('df-48e3c979-2d89-421d-94ef-4e9bd7b13b26')\"\n",
              "            title=\"Suggest charts\"\n",
              "            style=\"display:none;\">\n",
              "\n",
              "<svg xmlns=\"http://www.w3.org/2000/svg\" height=\"24px\"viewBox=\"0 0 24 24\"\n",
              "     width=\"24px\">\n",
              "    <g>\n",
              "        <path d=\"M19 3H5c-1.1 0-2 .9-2 2v14c0 1.1.9 2 2 2h14c1.1 0 2-.9 2-2V5c0-1.1-.9-2-2-2zM9 17H7v-7h2v7zm4 0h-2V7h2v10zm4 0h-2v-4h2v4z\"/>\n",
              "    </g>\n",
              "</svg>\n",
              "  </button>\n",
              "\n",
              "<style>\n",
              "  .colab-df-quickchart {\n",
              "      --bg-color: #E8F0FE;\n",
              "      --fill-color: #1967D2;\n",
              "      --hover-bg-color: #E2EBFA;\n",
              "      --hover-fill-color: #174EA6;\n",
              "      --disabled-fill-color: #AAA;\n",
              "      --disabled-bg-color: #DDD;\n",
              "  }\n",
              "\n",
              "  [theme=dark] .colab-df-quickchart {\n",
              "      --bg-color: #3B4455;\n",
              "      --fill-color: #D2E3FC;\n",
              "      --hover-bg-color: #434B5C;\n",
              "      --hover-fill-color: #FFFFFF;\n",
              "      --disabled-bg-color: #3B4455;\n",
              "      --disabled-fill-color: #666;\n",
              "  }\n",
              "\n",
              "  .colab-df-quickchart {\n",
              "    background-color: var(--bg-color);\n",
              "    border: none;\n",
              "    border-radius: 50%;\n",
              "    cursor: pointer;\n",
              "    display: none;\n",
              "    fill: var(--fill-color);\n",
              "    height: 32px;\n",
              "    padding: 0;\n",
              "    width: 32px;\n",
              "  }\n",
              "\n",
              "  .colab-df-quickchart:hover {\n",
              "    background-color: var(--hover-bg-color);\n",
              "    box-shadow: 0 1px 2px rgba(60, 64, 67, 0.3), 0 1px 3px 1px rgba(60, 64, 67, 0.15);\n",
              "    fill: var(--button-hover-fill-color);\n",
              "  }\n",
              "\n",
              "  .colab-df-quickchart-complete:disabled,\n",
              "  .colab-df-quickchart-complete:disabled:hover {\n",
              "    background-color: var(--disabled-bg-color);\n",
              "    fill: var(--disabled-fill-color);\n",
              "    box-shadow: none;\n",
              "  }\n",
              "\n",
              "  .colab-df-spinner {\n",
              "    border: 2px solid var(--fill-color);\n",
              "    border-color: transparent;\n",
              "    border-bottom-color: var(--fill-color);\n",
              "    animation:\n",
              "      spin 1s steps(1) infinite;\n",
              "  }\n",
              "\n",
              "  @keyframes spin {\n",
              "    0% {\n",
              "      border-color: transparent;\n",
              "      border-bottom-color: var(--fill-color);\n",
              "      border-left-color: var(--fill-color);\n",
              "    }\n",
              "    20% {\n",
              "      border-color: transparent;\n",
              "      border-left-color: var(--fill-color);\n",
              "      border-top-color: var(--fill-color);\n",
              "    }\n",
              "    30% {\n",
              "      border-color: transparent;\n",
              "      border-left-color: var(--fill-color);\n",
              "      border-top-color: var(--fill-color);\n",
              "      border-right-color: var(--fill-color);\n",
              "    }\n",
              "    40% {\n",
              "      border-color: transparent;\n",
              "      border-right-color: var(--fill-color);\n",
              "      border-top-color: var(--fill-color);\n",
              "    }\n",
              "    60% {\n",
              "      border-color: transparent;\n",
              "      border-right-color: var(--fill-color);\n",
              "    }\n",
              "    80% {\n",
              "      border-color: transparent;\n",
              "      border-right-color: var(--fill-color);\n",
              "      border-bottom-color: var(--fill-color);\n",
              "    }\n",
              "    90% {\n",
              "      border-color: transparent;\n",
              "      border-bottom-color: var(--fill-color);\n",
              "    }\n",
              "  }\n",
              "</style>\n",
              "\n",
              "  <script>\n",
              "    async function quickchart(key) {\n",
              "      const quickchartButtonEl =\n",
              "        document.querySelector('#' + key + ' button');\n",
              "      quickchartButtonEl.disabled = true;  // To prevent multiple clicks.\n",
              "      quickchartButtonEl.classList.add('colab-df-spinner');\n",
              "      try {\n",
              "        const charts = await google.colab.kernel.invokeFunction(\n",
              "            'suggestCharts', [key], {});\n",
              "      } catch (error) {\n",
              "        console.error('Error during call to suggestCharts:', error);\n",
              "      }\n",
              "      quickchartButtonEl.classList.remove('colab-df-spinner');\n",
              "      quickchartButtonEl.classList.add('colab-df-quickchart-complete');\n",
              "    }\n",
              "    (() => {\n",
              "      let quickchartButtonEl =\n",
              "        document.querySelector('#df-48e3c979-2d89-421d-94ef-4e9bd7b13b26 button');\n",
              "      quickchartButtonEl.style.display =\n",
              "        google.colab.kernel.accessAllowed ? 'block' : 'none';\n",
              "    })();\n",
              "  </script>\n",
              "</div>\n",
              "\n",
              "    </div>\n",
              "  </div>\n"
            ],
            "application/vnd.google.colaboratory.intrinsic+json": {
              "type": "dataframe",
              "variable_name": "test",
              "summary": "{\n  \"name\": \"test\",\n  \"rows\": 11490,\n  \"fields\": [\n    {\n      \"column\": \"id\",\n      \"properties\": {\n        \"dtype\": \"string\",\n        \"num_unique_values\": 11490,\n        \"samples\": [\n          \"f00ae3c3929d829cd469ba4f229cc613b0766203\",\n          \"9e451f79499e5c784222b3f237c6ae4829849d79\",\n          \"dae58055bd50598b93a230aa3a58e0d2f519b536\"\n        ],\n        \"semantic_type\": \"\",\n        \"description\": \"\"\n      }\n    },\n    {\n      \"column\": \"article\",\n      \"properties\": {\n        \"dtype\": \"string\",\n        \"num_unique_values\": 11488,\n        \"samples\": [\n          \"A Hollywood-inspired experiment to help dementia patients by waking them up with video recordings from loved ones is taking place in New York. The hope is that the videos shown to residents of a care home in the city will ease their confusion, forgetfulness and agitation. The idea is borrowed from the 2004 Adam Sandler film 50 First Dates, in which Drew Barrymore's character suffers a brain injury and memory loss each day. A suitor, played by Sandler, uses videos to remind her of him. Charlotte Dell, director of social services at Hebrew Home in Riverdale, said the film was 'fluff', but added it inspired her to think about how the idea could help residents. The film 50 First Dates starring Adam Sandler and Drew Barrymore has inspired a new dementia experiment taking place at a care home in Riverdale, New York . 'We're looking to see if we can set a positive tone for the day,' without using drugs, she said. 'What better way to start the day than to see the face and hear the voice of someone you love wishing you a wonderful morning?' As in the film, each day a new video is shown to residents. Relatives are encouraged to take part to say good morning, use memory-triggering personal anecdotes and remind their loved ones that care home staff will be helping them get dressed and ready for the day. People suffering Alzheimer's disease and other forms of dementia often fell confused and anxious in the morning. The programme is designed to help those who are in the early to moderate stages of dementia, those who are still likely to recognise the people in the video and understand what they are saying. Ms Dell said: 'Do we know for sure that they know, this is my daughter, this is my son? No. 'But they recognise them as somebody they care about and love.' The Hebrew Home is planning to evaluate the programme next month, with the aim of expanding it to several hundred residents in its memory-care 'neighbourhoods'. Ms Dell said anecdotal evidence so far from staff at the home is 'very positive'. Robert Abrams, a geriatric psychiatrist at New York Presbyterian Hospital said the pilot is 'both innovative and thoughtful'. 'You've got a group of people with dementia who don't really grasp the nature and purpose of their surroundings or the circumstances that compelled them to be there,' he said. 'Consequently they're alone and at sea and feel frightened and even abandoned by family.' Resident Louisa Irving, 94, is one of several dementia sufferers at Hebrew Care Home, who is woken up each morning with a video recording from a loved one to help ease confusion and agitation . Her daughter Tamara Rusoff-Hoen, pictured in the striped top, records messages including stories of happy memories and family get-togethers, signing off with the family goodbye, 'Kiss, kiss, I love you' Among the residents taking part in the study is 94-year-old dementia sufferer, Louisa Irving. She wakes up each day to a video from her daughter Tamara Rusoff-Hoen, who sings: 'Good morning, merry sunshine, how did you wake so soon?' to her mother. The five-minute video includes stories of happy memories and get-togethers, and often inspires a bright smile from Ms Irving, before her daughter signs off with the family goodbye: 'Kiss, kiss, I love you.' Ms Rusoff-Hoen, said: 'Some of her agitation comes from, \\\"Who the heck are these people? Why am I here?\\\".' Although Ms Rusoff-Hoen, who lives a few hours away in Ghent, visits her mother three days a week, she said the video allows her to fill in the gaps. 'I am there with my mum, loving her and wishing her a wonderful day and helping her to feel better because there's not a lot I can do for her.' Other videos include a woman reminding her mother, in Spainish, to eat and take her medications before telling her: 'I love you, mum.' And in another, a man encourages his mother, telling her: 'You used to tell me that attitude is everything. You said that it's best to start off on the sunny side of the street.'\",\n          \"Eerie footage has emerged showing a mysterious 100 metre-wide black ring of smoke floating over clear skies in Kazakhstan - convincing locals it was caused by a UFO. The clip was filmed on Saturday in Shortandy village, 40 miles north of the capital Astana, and captures the  cloud hovering in the sky for 15 minutes before suddenly vanishing without trace. The video has been viewed more than 50,000 times since being uploaded to YouTube, prompting all manner of bizarre explanations for the\\u00a0phenomenon - with many seemingly convinced it is definitive proof of extra-terrestrial life. Spine-chilling: The creepy footage shows a mysterious 100 metre-wide black ring of smoke floating over clear skies in Kazakhstan - convincing locals it was caused by a UFO . Confused locals watched the mysterious cloud hover ominously over Shortandy for a quarter of an hour on Saturday morning before it vanished as quickly as it appeared. Once the cloud had rapidly dispersed, no trace of it was left in the sky. Speaking to local news website Today.kz, villager Oleg Menshikov said: 'It was like a black cloud. We saw it at around 4 pm on April 3. It dissipated like smoke, but it was completely odourless.' Within minutes of the video being shared online, YouTube users began to question whether the thick black hoop was an alien spacecraft, while others suggested it might just be cigarette smoke immediately in front of the camera but giving the perception it is in the sky. Others thought the cloud was likely to be a naturally occurring weather event known as a thermal microburst, which is caused by a falling mass of warm air. Mysterious: The clip was filmed on Saturday in Shortandy village, 40 miles north of the capital Astana, and captures the cloud hovering in the sky for 15 minutes before suddenly vanishing without trace . Dispersing rapidly: Confused locals watched the mysterious cloud hover ominously over Shortandy for a quarter of an hour on Saturday morning before it vanished as quickly as it appeared . Experts believe the cloud was roughly 100 metres in diameter and floated close to a mile in the air. Speaking to Russia Today, Andrey Solodovnik - associate physics professor at the Northern Kazakhstan State University - dismissed suggestions the cloud was caused by aliens. He said that based on similar clouds seen in the skies in recent years, the giant black hoop was likely to have been little more than a smoke ring generated by combustion at nearby factories. Plenty of industrial machinery is known to create ring-shaped clouds of smoke, though these are usually lighter-coloured, considerably less dense and vanish in just one or two minutes. In the latest instance it is likely the cloud was far more visible and hung around in the sky for much longer than usual for the simple reason it was cloudless day with little to no wind.\",\n          \"Arrested: Doug Hughes was put under arrest for his gyro-copter stunt and charged with\\u00a0operating an unregistered aircraft and violating national airspace . The postal carrier who flew a gyrocopter onto the lawn of the U.S. Capitol is facing two criminal charges. But he's being released from federal custody to return to Florida. Doug Hughes made his initial appearance in U.S. District Court in Washington on Thursday. That's one day after he steered his tiny aircraft onto the Capitol's West Lawn after flying through restricted airspace around the National Mall. He was charged with operating an unregistered aircraft and violating national airspace. Hughes said it was a political protest. Hughes was released on his own recognizance afterward and instructed to check in weekly with authorities in Tampa starting next week. In a soft voice, Hughes appeared to ask the judge a clarifying question about that obligation but otherwise he did not say anything significant. Homeland Security Secretary Jeh Johnson said Thursday that the copter 'apparently literally flew in under the radar,'\\u00a0as concerned lawmakers questioned how it was allowed to happen and why. Johnson said it's too soon to say whether Wednesday's incident should prompt changes in security procedures. 'I want to know all the facts before I reach an assessment of what can and should be done about gyrocopters in the future,' he said. But lawmakers said the incident exposed a gap in security, especially amid revelations that the pilot, Florida postal worker Doug Hughes, was interviewed by the Secret Service almost two years ago. The agency apparently determined he did not pose a threat, said Rep. Elijah Cummings, D-Md., the senior Democrat on the House Oversight and Government Reform Committee. Cummings spoke Thursday with the Secret Service director. 'I think that there's absolutely a gap, and it's a very dangerous gap, with regard to our airspace,' Cummings said. 'I don't want people to get a message that they can just land anywhere. Suppose there was a bomb or an explosive device on that air vehicle? That could have been a major catastrophe.' How'd it happen? Homeland Security Secretary Jeh Johnson said Thursday that the copter 'apparently literally flew in under the radar,' as concerned lawmakers questioned how it was allowed to happen and why . Approach: The small gyro-copter (circled in red) lands on the West Lawn of the Capitol in Washington as members of the public walk by. The stunt hasn't cost him his freedom, yet, but means he must check in with authorities every week as he awaits trial . Johnson said the Secret Service passed along the information from the interview with Hughes, who was to appear in court Thursday afternoon, to 'all of the appropriate law enforcement agencies.' House Minority leader Nancy Pelosi, D-Calif., called the incident 'stunning.' 'What safeguards can we use? We don't want to be a place where we're saying `This is an iron-clad Capitol.' And have such restrictions on people having access to it,' Pelosi told reporters. 'Nonetheless, we have to ensure the safety of those people.' The tiny, open-air aircraft landed without injuries to anyone, but the incident raises questions about how someone could be allowed to fly all the way from Gettysburg, Pennsylvania, right up to the Capitol. Hughes has said he was making the flight to publicize his concerns about the corrupting influence of money in politics, and deliver letters to all 535 members of Congress on the topic. 'We are a democracy. We don't have fences around our airspace, so we've got to find the right balance between living in a free and open society and security and the protection of federal buildings,' Johnson told reporters on Capitol Hill. 'And so we want to stay one step ahead of every incident like this, but then again, you don't want to overreact, either.' Still, lawmakers questioned why, if authorities had been in touch with Hughes, no action was taken to stop him. Practice run: Doug Hughes flies his gyrocopter near the Wauchula Municipal Airport in Wauchula, Florida prior to his 'insane' stunt on Wednesday . Before\\u00a0Doug Hughes made headlines by flying his open air helicopter onto the U.S. Capitol grounds, he blogged about his intention to undertake the 'non-violent demonstration.' Though, it may have been a demonstration years in the making. In a post dated September 2013 on the democracyclub.org, a writer called Tampadoug47 wrote: . Let me say first \\u2013 this is a non-violent demonstration. I have no intention of hurting anyone \\u2013 I have taken every precaution to prevent any injury to anyone, including me. There is no way I can prevent over-reaction by the authorities, but I have given them as much information and advance warning as my fuel supply allows. When I took off, I was over an hour away from the no-fly zone. The demonstration is about restoring democracy. Corruption in Washington DC has robbed the US citizens of the representative government that is our birthright. Polls show that the public is aware of the problem and VERY concerned, but they are largely uninformed that there is a solution and there are organizations prepared to make reform a reality. As a result of this flight, two things will happen. (I hope.) First, we\\u2019re going to change the narrative \\u2013 the story. Voters are going to quit being played like suckers with divisive hot-button issues and come together on a single issue. Honest government. Congress won\\u2019t start working for you or me when their big paycheck is from big business. Lobbyists, Special Interests, Unions. We have to make this happen. The political parties won\\u2019t. Congress sure won\\u2019t. Lobbyists love the status quo. The mainstream media (not the local media) is making a financial killing with mega-elections. It\\u2019s up to us. Second, in every Congressional race in 2016, I want every candidate to take a stand on corruption. After this flight, we\\u2019re going to define exactly what reform means \\u2013 set a written standard \\u2013 and it\\u2019s that standard which candidates will have to endorse. Or the candidate will have to defend to voters why he took a lesser position. The candidate who only wants to talk \\u2018reform\\u2019 but won\\u2019t endorse the real deal will be facing someone who will endorse real reform. That may be in the primary or the general election. Giving you a choice is our job. The clear choice, establishment or reform, will be in place in just a year for just over 460 congressional races. You get to choose (That\\u2019s your job as a voter.) but for the first time in decades, you will have a meaningful choice. What do I want from you? Look over your options on the previous screen or the \\u2018Honor Roll\\u2019 on the sidebar to the right. Rootstrikers or Wolf PAC or Represent.US. My favorite group isn\\u2019t listed there \\u2013 it\\u2019s my own startup group:\\u2018The Civilist Papers\\u2018. Find a group (or groups) that you are comfortable with and sign up. We\\u2019re not after money \\u2013 we want to know who you are and where you are so we can keep you informed. Protest flight: Doug Hughes took off from an undisclosed location in Washington D.C. and landed his gyro-copter on the West Front lawn of the US Capitol building . 'My concerns are the prior notice that he was going to do this and the lack of response,' said Rep. Michael McCaul, R-Texas, chairman of the House Homeland Security Committee. 'These small aircraft or UAV devices concern me because they could go undetected and cause damage, so that's something we're taking a look at,' McCaul said, adding he might hold hearings on the issue. Cummings and others also complained that they were not notified of the incident and that many first learned of it from the news media. Johnson defended existing protocols for dealing with the restricted airspace over Washington, D.C., federal buildings and monuments. 'We've got a well-coordinated federal response to dealing with issues of those who penetrate the restricted airspace without permission,' he said. He said his first reaction on hearing of the incident was to ask, 'What's a gyrocopter?' It's not unusual for a small aircraft like a gyrocopter to go undetected by conventional radar. Unlike most larger aircraft, a gyrocopter doesn't have a transponder that identifies the aircraft, its altitude and heading. Even without a transponder, radar can detect 'primary targets' - planes, flocks of birds, rain and other objects. But how well it can detect those objects depends upon several factors. The landing on the Capitol grounds 'just illustrates how hard it is to have an impermeable barrier. It's very hard to hermetically seal airspace,' said John Hansman, a Massachusetts Institute of Technology aeronautics professor. Evidence: The illegally landed craft \\u00a0was piloted by Florida mailman Doug Hughes to protest against government corruption and to promote campaign finance reform . Evidence: The illegally landed craft \\u00a0was piloted by Florida mailman Doug Hughes to protest against government corruption and to promote campaign finance reform .\"\n        ],\n        \"semantic_type\": \"\",\n        \"description\": \"\"\n      }\n    },\n    {\n      \"column\": \"highlights\",\n      \"properties\": {\n        \"dtype\": \"string\",\n        \"num_unique_values\": 11449,\n        \"samples\": [\n          \"The wildfire started in Miami-Dade County on Sunday .\\nBy Monday night, it had grown to nearly 2,000 acres .\\nThe fire was 50% contained, officials said .\",\n          \"30-stone woman's 'perfect belly' attracted men from around the world .\\nGayla Neufeld always struggled with her size, weighing 13 stone aged eight .\\nThe 52-year-old\\u00a0now embraces her belly and works as a webcam model .\\nTexan Gayla met her husband Lance, from Canada, on a fat-fetish forum .\",\n          \"Annette Edwards has owned more than 100 bunnies in the past 10 years .\\nShe claims the secret to breeding huge rabbits is both parents must be big .\\nThe former Playboy model has owned the world's largest rabbit since 2008 .\\nHer rabbit Darius is 4ft in length but he will soon be eclipsed by his son .\"\n        ],\n        \"semantic_type\": \"\",\n        \"description\": \"\"\n      }\n    }\n  ]\n}"
            }
          },
          "metadata": {},
          "execution_count": 48
        }
      ]
    },
    {
      "cell_type": "code",
      "source": [
        "validation=pd.read_csv('validation.csv')"
      ],
      "metadata": {
        "id": "qrxNw1PeEEAL"
      },
      "execution_count": 49,
      "outputs": []
    },
    {
      "cell_type": "code",
      "source": [
        "train = pd.read_csv('train.csv') # Skip bad lines and disable quoting\n"
      ],
      "metadata": {
        "id": "lA4UpeheOykd"
      },
      "execution_count": 51,
      "outputs": []
    },
    {
      "cell_type": "code",
      "source": [
        "validation.head()"
      ],
      "metadata": {
        "colab": {
          "base_uri": "https://localhost:8080/",
          "height": 293
        },
        "id": "Fv1d8J27O3ue",
        "outputId": "0f3b8a53-0100-4fa6-fa5a-34f0050038f1"
      },
      "execution_count": 50,
      "outputs": [
        {
          "output_type": "execute_result",
          "data": {
            "text/plain": [
              "                                         id  \\\n",
              "0  61df4979ac5fcc2b71be46ed6fe5a46ce7f071c3   \n",
              "1  21c0bd69b7e7df285c3d1b1cf56d4da925980a68   \n",
              "2  56f340189cd128194b2e7cb8c26bb900e3a848b4   \n",
              "3  00a665151b89a53e5a08a389df8334f4106494c2   \n",
              "4  9f6fbd3c497c4d28879bebebea220884f03eb41a   \n",
              "\n",
              "                                             article  \\\n",
              "0  Sally Forrest, an actress-dancer who graced th...   \n",
              "1  A middle-school teacher in China has inked hun...   \n",
              "2  A man convicted of killing the father and sist...   \n",
              "3  Avid rugby fan Prince Harry could barely watch...   \n",
              "4  A Triple M Radio producer has been inundated w...   \n",
              "\n",
              "                                          highlights  \n",
              "0  Sally Forrest, an actress-dancer who graced th...  \n",
              "1  Works include pictures of Presidential Palace ...  \n",
              "2  Iftekhar Murtaza, 29, was convicted a year ago...  \n",
              "3  Prince Harry in attendance for England's crunc...  \n",
              "4  Nick Slater's colleagues uploaded a picture to...  "
            ],
            "text/html": [
              "\n",
              "  <div id=\"df-e05a1672-aac4-4bc1-af24-e90820be1215\" class=\"colab-df-container\">\n",
              "    <div>\n",
              "<style scoped>\n",
              "    .dataframe tbody tr th:only-of-type {\n",
              "        vertical-align: middle;\n",
              "    }\n",
              "\n",
              "    .dataframe tbody tr th {\n",
              "        vertical-align: top;\n",
              "    }\n",
              "\n",
              "    .dataframe thead th {\n",
              "        text-align: right;\n",
              "    }\n",
              "</style>\n",
              "<table border=\"1\" class=\"dataframe\">\n",
              "  <thead>\n",
              "    <tr style=\"text-align: right;\">\n",
              "      <th></th>\n",
              "      <th>id</th>\n",
              "      <th>article</th>\n",
              "      <th>highlights</th>\n",
              "    </tr>\n",
              "  </thead>\n",
              "  <tbody>\n",
              "    <tr>\n",
              "      <th>0</th>\n",
              "      <td>61df4979ac5fcc2b71be46ed6fe5a46ce7f071c3</td>\n",
              "      <td>Sally Forrest, an actress-dancer who graced th...</td>\n",
              "      <td>Sally Forrest, an actress-dancer who graced th...</td>\n",
              "    </tr>\n",
              "    <tr>\n",
              "      <th>1</th>\n",
              "      <td>21c0bd69b7e7df285c3d1b1cf56d4da925980a68</td>\n",
              "      <td>A middle-school teacher in China has inked hun...</td>\n",
              "      <td>Works include pictures of Presidential Palace ...</td>\n",
              "    </tr>\n",
              "    <tr>\n",
              "      <th>2</th>\n",
              "      <td>56f340189cd128194b2e7cb8c26bb900e3a848b4</td>\n",
              "      <td>A man convicted of killing the father and sist...</td>\n",
              "      <td>Iftekhar Murtaza, 29, was convicted a year ago...</td>\n",
              "    </tr>\n",
              "    <tr>\n",
              "      <th>3</th>\n",
              "      <td>00a665151b89a53e5a08a389df8334f4106494c2</td>\n",
              "      <td>Avid rugby fan Prince Harry could barely watch...</td>\n",
              "      <td>Prince Harry in attendance for England's crunc...</td>\n",
              "    </tr>\n",
              "    <tr>\n",
              "      <th>4</th>\n",
              "      <td>9f6fbd3c497c4d28879bebebea220884f03eb41a</td>\n",
              "      <td>A Triple M Radio producer has been inundated w...</td>\n",
              "      <td>Nick Slater's colleagues uploaded a picture to...</td>\n",
              "    </tr>\n",
              "  </tbody>\n",
              "</table>\n",
              "</div>\n",
              "    <div class=\"colab-df-buttons\">\n",
              "\n",
              "  <div class=\"colab-df-container\">\n",
              "    <button class=\"colab-df-convert\" onclick=\"convertToInteractive('df-e05a1672-aac4-4bc1-af24-e90820be1215')\"\n",
              "            title=\"Convert this dataframe to an interactive table.\"\n",
              "            style=\"display:none;\">\n",
              "\n",
              "  <svg xmlns=\"http://www.w3.org/2000/svg\" height=\"24px\" viewBox=\"0 -960 960 960\">\n",
              "    <path d=\"M120-120v-720h720v720H120Zm60-500h600v-160H180v160Zm220 220h160v-160H400v160Zm0 220h160v-160H400v160ZM180-400h160v-160H180v160Zm440 0h160v-160H620v160ZM180-180h160v-160H180v160Zm440 0h160v-160H620v160Z\"/>\n",
              "  </svg>\n",
              "    </button>\n",
              "\n",
              "  <style>\n",
              "    .colab-df-container {\n",
              "      display:flex;\n",
              "      gap: 12px;\n",
              "    }\n",
              "\n",
              "    .colab-df-convert {\n",
              "      background-color: #E8F0FE;\n",
              "      border: none;\n",
              "      border-radius: 50%;\n",
              "      cursor: pointer;\n",
              "      display: none;\n",
              "      fill: #1967D2;\n",
              "      height: 32px;\n",
              "      padding: 0 0 0 0;\n",
              "      width: 32px;\n",
              "    }\n",
              "\n",
              "    .colab-df-convert:hover {\n",
              "      background-color: #E2EBFA;\n",
              "      box-shadow: 0px 1px 2px rgba(60, 64, 67, 0.3), 0px 1px 3px 1px rgba(60, 64, 67, 0.15);\n",
              "      fill: #174EA6;\n",
              "    }\n",
              "\n",
              "    .colab-df-buttons div {\n",
              "      margin-bottom: 4px;\n",
              "    }\n",
              "\n",
              "    [theme=dark] .colab-df-convert {\n",
              "      background-color: #3B4455;\n",
              "      fill: #D2E3FC;\n",
              "    }\n",
              "\n",
              "    [theme=dark] .colab-df-convert:hover {\n",
              "      background-color: #434B5C;\n",
              "      box-shadow: 0px 1px 3px 1px rgba(0, 0, 0, 0.15);\n",
              "      filter: drop-shadow(0px 1px 2px rgba(0, 0, 0, 0.3));\n",
              "      fill: #FFFFFF;\n",
              "    }\n",
              "  </style>\n",
              "\n",
              "    <script>\n",
              "      const buttonEl =\n",
              "        document.querySelector('#df-e05a1672-aac4-4bc1-af24-e90820be1215 button.colab-df-convert');\n",
              "      buttonEl.style.display =\n",
              "        google.colab.kernel.accessAllowed ? 'block' : 'none';\n",
              "\n",
              "      async function convertToInteractive(key) {\n",
              "        const element = document.querySelector('#df-e05a1672-aac4-4bc1-af24-e90820be1215');\n",
              "        const dataTable =\n",
              "          await google.colab.kernel.invokeFunction('convertToInteractive',\n",
              "                                                    [key], {});\n",
              "        if (!dataTable) return;\n",
              "\n",
              "        const docLinkHtml = 'Like what you see? Visit the ' +\n",
              "          '<a target=\"_blank\" href=https://colab.research.google.com/notebooks/data_table.ipynb>data table notebook</a>'\n",
              "          + ' to learn more about interactive tables.';\n",
              "        element.innerHTML = '';\n",
              "        dataTable['output_type'] = 'display_data';\n",
              "        await google.colab.output.renderOutput(dataTable, element);\n",
              "        const docLink = document.createElement('div');\n",
              "        docLink.innerHTML = docLinkHtml;\n",
              "        element.appendChild(docLink);\n",
              "      }\n",
              "    </script>\n",
              "  </div>\n",
              "\n",
              "\n",
              "<div id=\"df-672900a5-73ab-48bc-b6b3-b7a2ed8c1ca6\">\n",
              "  <button class=\"colab-df-quickchart\" onclick=\"quickchart('df-672900a5-73ab-48bc-b6b3-b7a2ed8c1ca6')\"\n",
              "            title=\"Suggest charts\"\n",
              "            style=\"display:none;\">\n",
              "\n",
              "<svg xmlns=\"http://www.w3.org/2000/svg\" height=\"24px\"viewBox=\"0 0 24 24\"\n",
              "     width=\"24px\">\n",
              "    <g>\n",
              "        <path d=\"M19 3H5c-1.1 0-2 .9-2 2v14c0 1.1.9 2 2 2h14c1.1 0 2-.9 2-2V5c0-1.1-.9-2-2-2zM9 17H7v-7h2v7zm4 0h-2V7h2v10zm4 0h-2v-4h2v4z\"/>\n",
              "    </g>\n",
              "</svg>\n",
              "  </button>\n",
              "\n",
              "<style>\n",
              "  .colab-df-quickchart {\n",
              "      --bg-color: #E8F0FE;\n",
              "      --fill-color: #1967D2;\n",
              "      --hover-bg-color: #E2EBFA;\n",
              "      --hover-fill-color: #174EA6;\n",
              "      --disabled-fill-color: #AAA;\n",
              "      --disabled-bg-color: #DDD;\n",
              "  }\n",
              "\n",
              "  [theme=dark] .colab-df-quickchart {\n",
              "      --bg-color: #3B4455;\n",
              "      --fill-color: #D2E3FC;\n",
              "      --hover-bg-color: #434B5C;\n",
              "      --hover-fill-color: #FFFFFF;\n",
              "      --disabled-bg-color: #3B4455;\n",
              "      --disabled-fill-color: #666;\n",
              "  }\n",
              "\n",
              "  .colab-df-quickchart {\n",
              "    background-color: var(--bg-color);\n",
              "    border: none;\n",
              "    border-radius: 50%;\n",
              "    cursor: pointer;\n",
              "    display: none;\n",
              "    fill: var(--fill-color);\n",
              "    height: 32px;\n",
              "    padding: 0;\n",
              "    width: 32px;\n",
              "  }\n",
              "\n",
              "  .colab-df-quickchart:hover {\n",
              "    background-color: var(--hover-bg-color);\n",
              "    box-shadow: 0 1px 2px rgba(60, 64, 67, 0.3), 0 1px 3px 1px rgba(60, 64, 67, 0.15);\n",
              "    fill: var(--button-hover-fill-color);\n",
              "  }\n",
              "\n",
              "  .colab-df-quickchart-complete:disabled,\n",
              "  .colab-df-quickchart-complete:disabled:hover {\n",
              "    background-color: var(--disabled-bg-color);\n",
              "    fill: var(--disabled-fill-color);\n",
              "    box-shadow: none;\n",
              "  }\n",
              "\n",
              "  .colab-df-spinner {\n",
              "    border: 2px solid var(--fill-color);\n",
              "    border-color: transparent;\n",
              "    border-bottom-color: var(--fill-color);\n",
              "    animation:\n",
              "      spin 1s steps(1) infinite;\n",
              "  }\n",
              "\n",
              "  @keyframes spin {\n",
              "    0% {\n",
              "      border-color: transparent;\n",
              "      border-bottom-color: var(--fill-color);\n",
              "      border-left-color: var(--fill-color);\n",
              "    }\n",
              "    20% {\n",
              "      border-color: transparent;\n",
              "      border-left-color: var(--fill-color);\n",
              "      border-top-color: var(--fill-color);\n",
              "    }\n",
              "    30% {\n",
              "      border-color: transparent;\n",
              "      border-left-color: var(--fill-color);\n",
              "      border-top-color: var(--fill-color);\n",
              "      border-right-color: var(--fill-color);\n",
              "    }\n",
              "    40% {\n",
              "      border-color: transparent;\n",
              "      border-right-color: var(--fill-color);\n",
              "      border-top-color: var(--fill-color);\n",
              "    }\n",
              "    60% {\n",
              "      border-color: transparent;\n",
              "      border-right-color: var(--fill-color);\n",
              "    }\n",
              "    80% {\n",
              "      border-color: transparent;\n",
              "      border-right-color: var(--fill-color);\n",
              "      border-bottom-color: var(--fill-color);\n",
              "    }\n",
              "    90% {\n",
              "      border-color: transparent;\n",
              "      border-bottom-color: var(--fill-color);\n",
              "    }\n",
              "  }\n",
              "</style>\n",
              "\n",
              "  <script>\n",
              "    async function quickchart(key) {\n",
              "      const quickchartButtonEl =\n",
              "        document.querySelector('#' + key + ' button');\n",
              "      quickchartButtonEl.disabled = true;  // To prevent multiple clicks.\n",
              "      quickchartButtonEl.classList.add('colab-df-spinner');\n",
              "      try {\n",
              "        const charts = await google.colab.kernel.invokeFunction(\n",
              "            'suggestCharts', [key], {});\n",
              "      } catch (error) {\n",
              "        console.error('Error during call to suggestCharts:', error);\n",
              "      }\n",
              "      quickchartButtonEl.classList.remove('colab-df-spinner');\n",
              "      quickchartButtonEl.classList.add('colab-df-quickchart-complete');\n",
              "    }\n",
              "    (() => {\n",
              "      let quickchartButtonEl =\n",
              "        document.querySelector('#df-672900a5-73ab-48bc-b6b3-b7a2ed8c1ca6 button');\n",
              "      quickchartButtonEl.style.display =\n",
              "        google.colab.kernel.accessAllowed ? 'block' : 'none';\n",
              "    })();\n",
              "  </script>\n",
              "</div>\n",
              "\n",
              "    </div>\n",
              "  </div>\n"
            ],
            "application/vnd.google.colaboratory.intrinsic+json": {
              "type": "dataframe",
              "variable_name": "validation",
              "summary": "{\n  \"name\": \"validation\",\n  \"rows\": 13368,\n  \"fields\": [\n    {\n      \"column\": \"id\",\n      \"properties\": {\n        \"dtype\": \"string\",\n        \"num_unique_values\": 13368,\n        \"samples\": [\n          \"b73ed8b71f8e326e94c94d92706e053cb370626d\",\n          \"6c49472424f6cfb4558c3fe57786bcccf7f57ca6\",\n          \"80770b0b9213281ecfc0a49fe5222a74536da161\"\n        ],\n        \"semantic_type\": \"\",\n        \"description\": \"\"\n      }\n    },\n    {\n      \"column\": \"article\",\n      \"properties\": {\n        \"dtype\": \"string\",\n        \"num_unique_values\": 13368,\n        \"samples\": [\n          \"A bird that was long thought to have gone extinct has been rediscovered in Burma after a team of scientists used a recording of the species' distinctive call to track it down. The Jerdon's Babbler (chrysomma altirostre altirostre) - a small brown bird similar in size to a house sparrow - was last spotted in Myanmar in 1941 and was thought to have died out altogether. But a team of scientists managed to uncover multiple birds nesting in a small area of grassland in Myanmar's central Bago region in May last year, according to their report published in the latest edition of Birding Asia. Re-discovered:\\u00a0The Jerdon's Babbler which was thought extinct for 73 years until scientists found evidence of it living in Burma . The scientists targeted some of the few remaining patches of wild grassland left along Myanmar's mighty Irrawaddy river, now one of the most heavily cultivated and densely populated regions of the impoverished but emerging southeast Asian nation. At one small patch of grassland near an abandoned agricultural station, the team heard what they thought could be the babbler's call. They then used a recording of a Jerdon's Babbler from the Indian subcontinent to see if the bird would show itself. Frank Rheindt, from the National University of Singapore, told AFP he was the first person to spot the bird during the survey, which was also carried out with members of the Wildlife Conservation Society and Myanmar's Nature and Wildlife Conservation Division. 'It was unbelievable,' he recalled. 'We played the sound recordings and one of the birds came up from the reed beds. Like many song birds in reed beds you hardly ever see them, they only come out to defend their territory when they hear a territorial call.' Further searches over the next two days uncovered more birds allowing researchers to obtain blood samples and photographs. But researchers warned that the bird's survival is still far from guaranteed given pressure on Myanmar's few remaining grasslands. 'This discovery not only proves that the species still exists in Myanmar but that the habitat can still be found as well,' Colin Poole, director of Wildlife Conservation Society's regional hub in Singapore, said in a statement. 'Future work is needed to identify remaining pockets of natural grassland and develop systems for local communities to conserve and benefit from them,' he added. Birds fly over the Moe Yun Gyi Wetlands in Bago Division, Myanmar, where\\u00a0Jerdon's Babbler was re-discovered 73 years after it was believed to be extinct . Rheindt said the area of grassland where the bird was found was very small, 'around 50-80 hectares' and that new chicken and fish farms were being built nearby. He added that its plumage and song were significantly different to how it had been described by ornithologists in the early twentieth century - leading the team to suspect that it may differ from threatened populations found in Nepal, India and Pakistan. His team now hope to conduct DNA tests to decide if it is a separate species. Burma's quasi-civilian government replaced decades of brutal military rule in 2011. It has since embarked on a series of political reforms and shown itself to be far more open to foreign businesses and academic researchers than the country's generals were. Burma has more species of bird than any other country in mainland Southeast Asia, with ornithologists saying this number is could increase if more scientific research is conducted.\",\n          \"A Sydney pastor has spoken about the incredible moment Bali Nine ringleader Andrew Chan offered a vital piece of himself in a bid to save the man's life. Mal Feebrey, a men's mental health ambassador, had been diagnosed with terminal liver disease in 2010, when the death row inmate, with whom he had formed a close friendship, offered his own liver up for transplant. Chan, who had been in jail for five years at the time, 'knocked' the Assemblies of God minister about when he heard of his friends plight and immediately said, 'have mine'. Scroll down for video . Mal Feebrey (above left), a men's mental health ambassador, had been diagnosed with terminal liver disease in 2010, when Bali Nine kingpin Andrew Chan (above right), with whom he had formed a close friendship, offered his own liver up for transplant . 'It really touched me. Here I am waiting for a donor, I'm dying in front of my wife and kids and here he is going \\\"my liver's ok, you can have mine\\\",' Mr Feebrey told The Sydney Morning Herald. 'He was sort of like, if they want to kill me, then you can have my liver. It wasn't a passing-the-time comment, he wanted to make it happen. If he could have pulled it off he would have,' he said. Chan reportedly began making enquiries about whether the organ donation could go ahead, determined to save Mr Feebrey, who shared his Christian faith and had been a regular visitor since his incarceration in 2005. While Mr Feebrey received a liver from another organ donor, he said that the gesture was unforgettable and was characteristic of his 'incredible' friend. Chan and fellow Bali Nine member Myuran Sukumaran are currently being held on Nusakambangan island where they await execution and the outcome of their final appeals for clemency. Mr Feebrey said that when Chan heard the news that his appeal for clemency from Indonesian President Joko Widodo, he was more concerned with the health of a fellow inmate who was in the jail's clinic than himself. 'It was a bit surreal. Andrew took it on the chin and with courage and then he just walked off to go to the clinic to go and see this guy,' Mr Feebrey said . While Mr Feebrey received a liver from another organ donor, he said that the gesture was unforgettable and was characteristic of his 'incredible' friend . The pastor uses his social media accounts to campaign against the executions of the two Australians . Chan and fellow Bali Nine member Myuran Sukumaran are currently being held on Nusakambangan island where they await execution and the outcome of their final appeals for clemency . Mr Feebrey has continued to be in regular contact with Chan, and is an outspoken advocate for the 'I Stand For Mercy Campaign'. The pastor uses his social media accounts to campaign against the executions of the two Australians, and posted on his Instagram account after the Chan heard of his rejected Clemency appeal. 'Just spent the last half an hour with my friend Andrew Chan, when the Australian Consulate Staff notified him that his final appeal against [the] death sentence was rejected,' Mr Feebrey posted. 'He took it on the chin with courage, humility and with a contrite heart.' In February, the pastor posted a 'message of hope' to supporters of Chan on his Instagram account. 'The most beautiful people that I've known are those that have known defeat, known suffering, known struggle, known loss and yet found a way out of these depths,' he posted underneath a photograph of himself with Chan. In February, the pastor posted a 'message of hope' to supporters of Chan on his Instagram account . The men's mental health ambassador said it would be tragic for Chan and Sukumaran, who have worked tirelessly to mentor other prisoners, to be executed. 'Andrew is the idyllic, dream guy to mentor and rehabilitate and a great seed like him \\u2013 they want to put to death?,' Mr Feebrey asked. Both Chan and Sukumaran have been involved in running education and drug rehabilitation programs inside Kerobokan prison since 2009. New footage has emerged of Sukumaran, shot as a part of a documentary in May last year, of Sukumaran discussing his hopes for the future before his bid for clemency was rejected. 'I think I can do a lot of good on the outside if I ever got free. It's not like I'm just going to go back after all this and just sit and be somewhere,' reported 9news. 'I would want to do stuff like work and make good stuff and help people,' he told Norwegian educator Ivar Schou, who met the Australian while running rehabilitation programs inside the prison. Sukumaran, who now faces the death penalty along with fellow inmate Andrew Chan, said that he believed he had done wrong but that he felt his punishment was too harsh. 'I accept what I did was wrong and I think I should be punished for it,' he said. The pair may be waiting months for their execution as other prisoners pursue lengthy appeals . Myuran Sukumaran, left, and Andrew Chan, right, will be put through an 'assimilation' process as they prepare to face the firing squad . 'But I do think the death penalty is too excessive.' Sukumaran was convicted in 2005 after attempting to smuggle 8.3kg of heroin from Bali to Australia. He has called Kerobokan prison in Bali his home for the past ten years, along with Chan. Sukumaran describes the immense change that he has seen in his life over the past ten years, most notably when he and other inmates were allowed to start education. 'In 2009 they finally gave us permission to start working and doing some projects. Slowly slowly it helped me with my life. It kept me busy. It helped me be productive. I started learning and I was able to help other people learning.' Earlier on Saturday the Indonesian attorney-general Muhammad Prasetyo said that the pair could have their executions delayed for months as other death row inmates take on lengthy court appeals. President Widodo is adamant he will show no leniency to drug offenders caught on his shores . Mr Sukumaran was a highly respected art teacher while he was detained in Kerobokan prison . Mr Praseyto said the execution of the Bali nine duo will take place at the same time as several other foreigners on death row. This could delay the pair's execution as all avenues of legal appeal for the other eight convicted drug offenders must be exhausted before their death sentence can be carried out. The Australian government, alongside several notable public figures, have made repeated pleas to spare the lives of Mr Chan and Mr Sukumaran. Foreign Minister Julie Bishop has written to the Indonesia government offering to cover the cost of life imprisonment for the condemned pair if they agree to call off their executions. Ms Bishop is yet to receive a response.\",\n          \"Everton boss Roberto Martinez feels the poor condition of the pitch at Dynamo Kiev's Olympic Stadium is 'a concern' - but he is sure it will be just as problematic for one side as the other in Thursday's Europa League last-16 second-leg encounter. Rather than training on the pitch at their opponents' stadium as they normally would, Martinez' men did a session on the running track surrounding the playing surface - while the turf was covered by a protective sheet - following their arrival in Ukraine on Wednesday. And when asked about the state of the grass, the Spaniard said at his pre-match press conference: 'The pitch is a concern for both teams. Everton boss Roberto Martinez has expressed concerns over the quality of Dynamo Kiev's pitch . Everton players train ahead of their Europa League round of 16 second-leg with Dynamo Kiev . Everton currently lead the tie 2-1 on aggregate following their win at Goodison Park in the first-leg . With the pitch covered up, Everton players are made to train on the running track that surrounds it . Martinez has warned that the poor quality pitch could be a problem for both Everton and Dynamo Kiev . 'Dynamo Kiev are a technical team and they need a good pitch, and we are exactly the same. 'I don't think it will play a big part in terms of giving a favour or advantage to either of the two sides. 'I think it is a little bit of a shame for the game of football that the pitch is not going to be in perfect condition. 'But you have to adapt to whatever surface you play on.' An Everton coach leads the players in a series of stretches on the running track around the pitch . Leighton Baines (left) stretches alongside Everton team-mate Luke Garbutt at the Olympic Stadium .\"\n        ],\n        \"semantic_type\": \"\",\n        \"description\": \"\"\n      }\n    },\n    {\n      \"column\": \"highlights\",\n      \"properties\": {\n        \"dtype\": \"string\",\n        \"num_unique_values\": 13300,\n        \"samples\": [\n          \"Kenya is one of the biggest flower exporters in the world .\\nAround one in three flowers sold in Europe come from the country .\",\n          \"The two-bedroom end of terrace house collapsed on Tuesday morning .\\nBuilders had demolished a garage and stripped the inside of the house .\\nDevelopers wanted to build a second house on the side of the original .\\nThe Health and Safety Executive is investigating the cause of the collapse .\\nElderly neighbours claimed the disaster reminded them of 'The Blitz'\",\n          \"Fifty Shades author E. L. James was spotted in her new\\u00a0\\u00a379,000 electric car .\\nShe swapped her  Mini for the battery-powered luxury\\u00a0Tesla Model S .\\nSedan boasts top speed of 150mph and can do 0 to 60 in 3.2 seconds .\\nFormer TV executive made \\u00a333 million last year, more than \\u00a390,500 a day .\"\n        ],\n        \"semantic_type\": \"\",\n        \"description\": \"\"\n      }\n    }\n  ]\n}"
            }
          },
          "metadata": {},
          "execution_count": 50
        }
      ]
    },
    {
      "cell_type": "code",
      "source": [
        "train.head()"
      ],
      "metadata": {
        "colab": {
          "base_uri": "https://localhost:8080/",
          "height": 293
        },
        "id": "meyJN5TpPZeB",
        "outputId": "770d9fd2-d41f-422b-82ca-2f43f711f7a5"
      },
      "execution_count": 52,
      "outputs": [
        {
          "output_type": "execute_result",
          "data": {
            "text/plain": [
              "                                         id  \\\n",
              "0  0001d1afc246a7964130f43ae940af6bc6c57f01   \n",
              "1  0002095e55fcbd3a2f366d9bf92a95433dc305ef   \n",
              "2  00027e965c8264c35cc1bc55556db388da82b07f   \n",
              "3  0002c17436637c4fe1837c935c04de47adb18e9a   \n",
              "4  0003ad6ef0c37534f80b55b4235108024b407f0b   \n",
              "\n",
              "                                             article  \\\n",
              "0  By . Associated Press . PUBLISHED: . 14:11 EST...   \n",
              "1  (CNN) -- Ralph Mata was an internal affairs li...   \n",
              "2  A drunk driver who killed a young woman in a h...   \n",
              "3  (CNN) -- With a breezy sweep of his pen Presid...   \n",
              "4  Fleetwood are the only team still to have a 10...   \n",
              "\n",
              "                                          highlights  \n",
              "0  Bishop John Folda, of North Dakota, is taking ...  \n",
              "1  Criminal complaint: Cop used his role to help ...  \n",
              "2  Craig Eccleston-Todd, 27, had drunk at least t...  \n",
              "3  Nina dos Santos says Europe must be ready to a...  \n",
              "4  Fleetwood top of League One after 2-0 win at S...  "
            ],
            "text/html": [
              "\n",
              "  <div id=\"df-adfe9975-bed1-4622-9bdc-7e1ac3656e6c\" class=\"colab-df-container\">\n",
              "    <div>\n",
              "<style scoped>\n",
              "    .dataframe tbody tr th:only-of-type {\n",
              "        vertical-align: middle;\n",
              "    }\n",
              "\n",
              "    .dataframe tbody tr th {\n",
              "        vertical-align: top;\n",
              "    }\n",
              "\n",
              "    .dataframe thead th {\n",
              "        text-align: right;\n",
              "    }\n",
              "</style>\n",
              "<table border=\"1\" class=\"dataframe\">\n",
              "  <thead>\n",
              "    <tr style=\"text-align: right;\">\n",
              "      <th></th>\n",
              "      <th>id</th>\n",
              "      <th>article</th>\n",
              "      <th>highlights</th>\n",
              "    </tr>\n",
              "  </thead>\n",
              "  <tbody>\n",
              "    <tr>\n",
              "      <th>0</th>\n",
              "      <td>0001d1afc246a7964130f43ae940af6bc6c57f01</td>\n",
              "      <td>By . Associated Press . PUBLISHED: . 14:11 EST...</td>\n",
              "      <td>Bishop John Folda, of North Dakota, is taking ...</td>\n",
              "    </tr>\n",
              "    <tr>\n",
              "      <th>1</th>\n",
              "      <td>0002095e55fcbd3a2f366d9bf92a95433dc305ef</td>\n",
              "      <td>(CNN) -- Ralph Mata was an internal affairs li...</td>\n",
              "      <td>Criminal complaint: Cop used his role to help ...</td>\n",
              "    </tr>\n",
              "    <tr>\n",
              "      <th>2</th>\n",
              "      <td>00027e965c8264c35cc1bc55556db388da82b07f</td>\n",
              "      <td>A drunk driver who killed a young woman in a h...</td>\n",
              "      <td>Craig Eccleston-Todd, 27, had drunk at least t...</td>\n",
              "    </tr>\n",
              "    <tr>\n",
              "      <th>3</th>\n",
              "      <td>0002c17436637c4fe1837c935c04de47adb18e9a</td>\n",
              "      <td>(CNN) -- With a breezy sweep of his pen Presid...</td>\n",
              "      <td>Nina dos Santos says Europe must be ready to a...</td>\n",
              "    </tr>\n",
              "    <tr>\n",
              "      <th>4</th>\n",
              "      <td>0003ad6ef0c37534f80b55b4235108024b407f0b</td>\n",
              "      <td>Fleetwood are the only team still to have a 10...</td>\n",
              "      <td>Fleetwood top of League One after 2-0 win at S...</td>\n",
              "    </tr>\n",
              "  </tbody>\n",
              "</table>\n",
              "</div>\n",
              "    <div class=\"colab-df-buttons\">\n",
              "\n",
              "  <div class=\"colab-df-container\">\n",
              "    <button class=\"colab-df-convert\" onclick=\"convertToInteractive('df-adfe9975-bed1-4622-9bdc-7e1ac3656e6c')\"\n",
              "            title=\"Convert this dataframe to an interactive table.\"\n",
              "            style=\"display:none;\">\n",
              "\n",
              "  <svg xmlns=\"http://www.w3.org/2000/svg\" height=\"24px\" viewBox=\"0 -960 960 960\">\n",
              "    <path d=\"M120-120v-720h720v720H120Zm60-500h600v-160H180v160Zm220 220h160v-160H400v160Zm0 220h160v-160H400v160ZM180-400h160v-160H180v160Zm440 0h160v-160H620v160ZM180-180h160v-160H180v160Zm440 0h160v-160H620v160Z\"/>\n",
              "  </svg>\n",
              "    </button>\n",
              "\n",
              "  <style>\n",
              "    .colab-df-container {\n",
              "      display:flex;\n",
              "      gap: 12px;\n",
              "    }\n",
              "\n",
              "    .colab-df-convert {\n",
              "      background-color: #E8F0FE;\n",
              "      border: none;\n",
              "      border-radius: 50%;\n",
              "      cursor: pointer;\n",
              "      display: none;\n",
              "      fill: #1967D2;\n",
              "      height: 32px;\n",
              "      padding: 0 0 0 0;\n",
              "      width: 32px;\n",
              "    }\n",
              "\n",
              "    .colab-df-convert:hover {\n",
              "      background-color: #E2EBFA;\n",
              "      box-shadow: 0px 1px 2px rgba(60, 64, 67, 0.3), 0px 1px 3px 1px rgba(60, 64, 67, 0.15);\n",
              "      fill: #174EA6;\n",
              "    }\n",
              "\n",
              "    .colab-df-buttons div {\n",
              "      margin-bottom: 4px;\n",
              "    }\n",
              "\n",
              "    [theme=dark] .colab-df-convert {\n",
              "      background-color: #3B4455;\n",
              "      fill: #D2E3FC;\n",
              "    }\n",
              "\n",
              "    [theme=dark] .colab-df-convert:hover {\n",
              "      background-color: #434B5C;\n",
              "      box-shadow: 0px 1px 3px 1px rgba(0, 0, 0, 0.15);\n",
              "      filter: drop-shadow(0px 1px 2px rgba(0, 0, 0, 0.3));\n",
              "      fill: #FFFFFF;\n",
              "    }\n",
              "  </style>\n",
              "\n",
              "    <script>\n",
              "      const buttonEl =\n",
              "        document.querySelector('#df-adfe9975-bed1-4622-9bdc-7e1ac3656e6c button.colab-df-convert');\n",
              "      buttonEl.style.display =\n",
              "        google.colab.kernel.accessAllowed ? 'block' : 'none';\n",
              "\n",
              "      async function convertToInteractive(key) {\n",
              "        const element = document.querySelector('#df-adfe9975-bed1-4622-9bdc-7e1ac3656e6c');\n",
              "        const dataTable =\n",
              "          await google.colab.kernel.invokeFunction('convertToInteractive',\n",
              "                                                    [key], {});\n",
              "        if (!dataTable) return;\n",
              "\n",
              "        const docLinkHtml = 'Like what you see? Visit the ' +\n",
              "          '<a target=\"_blank\" href=https://colab.research.google.com/notebooks/data_table.ipynb>data table notebook</a>'\n",
              "          + ' to learn more about interactive tables.';\n",
              "        element.innerHTML = '';\n",
              "        dataTable['output_type'] = 'display_data';\n",
              "        await google.colab.output.renderOutput(dataTable, element);\n",
              "        const docLink = document.createElement('div');\n",
              "        docLink.innerHTML = docLinkHtml;\n",
              "        element.appendChild(docLink);\n",
              "      }\n",
              "    </script>\n",
              "  </div>\n",
              "\n",
              "\n",
              "<div id=\"df-3b1b0566-7d42-4049-af78-e0d206a3f265\">\n",
              "  <button class=\"colab-df-quickchart\" onclick=\"quickchart('df-3b1b0566-7d42-4049-af78-e0d206a3f265')\"\n",
              "            title=\"Suggest charts\"\n",
              "            style=\"display:none;\">\n",
              "\n",
              "<svg xmlns=\"http://www.w3.org/2000/svg\" height=\"24px\"viewBox=\"0 0 24 24\"\n",
              "     width=\"24px\">\n",
              "    <g>\n",
              "        <path d=\"M19 3H5c-1.1 0-2 .9-2 2v14c0 1.1.9 2 2 2h14c1.1 0 2-.9 2-2V5c0-1.1-.9-2-2-2zM9 17H7v-7h2v7zm4 0h-2V7h2v10zm4 0h-2v-4h2v4z\"/>\n",
              "    </g>\n",
              "</svg>\n",
              "  </button>\n",
              "\n",
              "<style>\n",
              "  .colab-df-quickchart {\n",
              "      --bg-color: #E8F0FE;\n",
              "      --fill-color: #1967D2;\n",
              "      --hover-bg-color: #E2EBFA;\n",
              "      --hover-fill-color: #174EA6;\n",
              "      --disabled-fill-color: #AAA;\n",
              "      --disabled-bg-color: #DDD;\n",
              "  }\n",
              "\n",
              "  [theme=dark] .colab-df-quickchart {\n",
              "      --bg-color: #3B4455;\n",
              "      --fill-color: #D2E3FC;\n",
              "      --hover-bg-color: #434B5C;\n",
              "      --hover-fill-color: #FFFFFF;\n",
              "      --disabled-bg-color: #3B4455;\n",
              "      --disabled-fill-color: #666;\n",
              "  }\n",
              "\n",
              "  .colab-df-quickchart {\n",
              "    background-color: var(--bg-color);\n",
              "    border: none;\n",
              "    border-radius: 50%;\n",
              "    cursor: pointer;\n",
              "    display: none;\n",
              "    fill: var(--fill-color);\n",
              "    height: 32px;\n",
              "    padding: 0;\n",
              "    width: 32px;\n",
              "  }\n",
              "\n",
              "  .colab-df-quickchart:hover {\n",
              "    background-color: var(--hover-bg-color);\n",
              "    box-shadow: 0 1px 2px rgba(60, 64, 67, 0.3), 0 1px 3px 1px rgba(60, 64, 67, 0.15);\n",
              "    fill: var(--button-hover-fill-color);\n",
              "  }\n",
              "\n",
              "  .colab-df-quickchart-complete:disabled,\n",
              "  .colab-df-quickchart-complete:disabled:hover {\n",
              "    background-color: var(--disabled-bg-color);\n",
              "    fill: var(--disabled-fill-color);\n",
              "    box-shadow: none;\n",
              "  }\n",
              "\n",
              "  .colab-df-spinner {\n",
              "    border: 2px solid var(--fill-color);\n",
              "    border-color: transparent;\n",
              "    border-bottom-color: var(--fill-color);\n",
              "    animation:\n",
              "      spin 1s steps(1) infinite;\n",
              "  }\n",
              "\n",
              "  @keyframes spin {\n",
              "    0% {\n",
              "      border-color: transparent;\n",
              "      border-bottom-color: var(--fill-color);\n",
              "      border-left-color: var(--fill-color);\n",
              "    }\n",
              "    20% {\n",
              "      border-color: transparent;\n",
              "      border-left-color: var(--fill-color);\n",
              "      border-top-color: var(--fill-color);\n",
              "    }\n",
              "    30% {\n",
              "      border-color: transparent;\n",
              "      border-left-color: var(--fill-color);\n",
              "      border-top-color: var(--fill-color);\n",
              "      border-right-color: var(--fill-color);\n",
              "    }\n",
              "    40% {\n",
              "      border-color: transparent;\n",
              "      border-right-color: var(--fill-color);\n",
              "      border-top-color: var(--fill-color);\n",
              "    }\n",
              "    60% {\n",
              "      border-color: transparent;\n",
              "      border-right-color: var(--fill-color);\n",
              "    }\n",
              "    80% {\n",
              "      border-color: transparent;\n",
              "      border-right-color: var(--fill-color);\n",
              "      border-bottom-color: var(--fill-color);\n",
              "    }\n",
              "    90% {\n",
              "      border-color: transparent;\n",
              "      border-bottom-color: var(--fill-color);\n",
              "    }\n",
              "  }\n",
              "</style>\n",
              "\n",
              "  <script>\n",
              "    async function quickchart(key) {\n",
              "      const quickchartButtonEl =\n",
              "        document.querySelector('#' + key + ' button');\n",
              "      quickchartButtonEl.disabled = true;  // To prevent multiple clicks.\n",
              "      quickchartButtonEl.classList.add('colab-df-spinner');\n",
              "      try {\n",
              "        const charts = await google.colab.kernel.invokeFunction(\n",
              "            'suggestCharts', [key], {});\n",
              "      } catch (error) {\n",
              "        console.error('Error during call to suggestCharts:', error);\n",
              "      }\n",
              "      quickchartButtonEl.classList.remove('colab-df-spinner');\n",
              "      quickchartButtonEl.classList.add('colab-df-quickchart-complete');\n",
              "    }\n",
              "    (() => {\n",
              "      let quickchartButtonEl =\n",
              "        document.querySelector('#df-3b1b0566-7d42-4049-af78-e0d206a3f265 button');\n",
              "      quickchartButtonEl.style.display =\n",
              "        google.colab.kernel.accessAllowed ? 'block' : 'none';\n",
              "    })();\n",
              "  </script>\n",
              "</div>\n",
              "\n",
              "    </div>\n",
              "  </div>\n"
            ],
            "application/vnd.google.colaboratory.intrinsic+json": {
              "type": "dataframe",
              "variable_name": "train"
            }
          },
          "metadata": {},
          "execution_count": 52
        }
      ]
    },
    {
      "cell_type": "code",
      "source": [
        "train.shape"
      ],
      "metadata": {
        "colab": {
          "base_uri": "https://localhost:8080/"
        },
        "id": "S46YJ0tndpWe",
        "outputId": "7eb050d5-249c-48d7-e3de-f0cf3940ec5d"
      },
      "execution_count": 53,
      "outputs": [
        {
          "output_type": "execute_result",
          "data": {
            "text/plain": [
              "(287113, 3)"
            ]
          },
          "metadata": {},
          "execution_count": 53
        }
      ]
    },
    {
      "cell_type": "code",
      "source": [
        "test.shape"
      ],
      "metadata": {
        "colab": {
          "base_uri": "https://localhost:8080/"
        },
        "id": "YXJy2O5Gdv8I",
        "outputId": "74777aba-d37d-41f4-bd43-b9a14a4fe01c"
      },
      "execution_count": 54,
      "outputs": [
        {
          "output_type": "execute_result",
          "data": {
            "text/plain": [
              "(11490, 3)"
            ]
          },
          "metadata": {},
          "execution_count": 54
        }
      ]
    },
    {
      "cell_type": "code",
      "source": [
        "validation.shape"
      ],
      "metadata": {
        "colab": {
          "base_uri": "https://localhost:8080/"
        },
        "id": "W0v6gu1cdxxT",
        "outputId": "8dde8066-79ed-4f81-a8f6-d69d2756a797"
      },
      "execution_count": 56,
      "outputs": [
        {
          "output_type": "execute_result",
          "data": {
            "text/plain": [
              "(13368, 3)"
            ]
          },
          "metadata": {},
          "execution_count": 56
        }
      ]
    },
    {
      "cell_type": "code",
      "source": [
        "train.isnull().sum()\n"
      ],
      "metadata": {
        "colab": {
          "base_uri": "https://localhost:8080/",
          "height": 178
        },
        "id": "RExxg0qGd0RU",
        "outputId": "dd32c8cc-876d-48a1-8ffb-cf4c441eb673"
      },
      "execution_count": 58,
      "outputs": [
        {
          "output_type": "execute_result",
          "data": {
            "text/plain": [
              "id            0\n",
              "article       0\n",
              "highlights    0\n",
              "dtype: int64"
            ],
            "text/html": [
              "<div>\n",
              "<style scoped>\n",
              "    .dataframe tbody tr th:only-of-type {\n",
              "        vertical-align: middle;\n",
              "    }\n",
              "\n",
              "    .dataframe tbody tr th {\n",
              "        vertical-align: top;\n",
              "    }\n",
              "\n",
              "    .dataframe thead th {\n",
              "        text-align: right;\n",
              "    }\n",
              "</style>\n",
              "<table border=\"1\" class=\"dataframe\">\n",
              "  <thead>\n",
              "    <tr style=\"text-align: right;\">\n",
              "      <th></th>\n",
              "      <th>0</th>\n",
              "    </tr>\n",
              "  </thead>\n",
              "  <tbody>\n",
              "    <tr>\n",
              "      <th>id</th>\n",
              "      <td>0</td>\n",
              "    </tr>\n",
              "    <tr>\n",
              "      <th>article</th>\n",
              "      <td>0</td>\n",
              "    </tr>\n",
              "    <tr>\n",
              "      <th>highlights</th>\n",
              "      <td>0</td>\n",
              "    </tr>\n",
              "  </tbody>\n",
              "</table>\n",
              "</div><br><label><b>dtype:</b> int64</label>"
            ]
          },
          "metadata": {},
          "execution_count": 58
        }
      ]
    },
    {
      "cell_type": "code",
      "source": [
        "test.isnull().sum()\n"
      ],
      "metadata": {
        "colab": {
          "base_uri": "https://localhost:8080/",
          "height": 178
        },
        "id": "cMagfQQ0eLxj",
        "outputId": "ca7a2c79-d5f2-48ed-f9d7-41b39677bab4"
      },
      "execution_count": 59,
      "outputs": [
        {
          "output_type": "execute_result",
          "data": {
            "text/plain": [
              "id            0\n",
              "article       0\n",
              "highlights    0\n",
              "dtype: int64"
            ],
            "text/html": [
              "<div>\n",
              "<style scoped>\n",
              "    .dataframe tbody tr th:only-of-type {\n",
              "        vertical-align: middle;\n",
              "    }\n",
              "\n",
              "    .dataframe tbody tr th {\n",
              "        vertical-align: top;\n",
              "    }\n",
              "\n",
              "    .dataframe thead th {\n",
              "        text-align: right;\n",
              "    }\n",
              "</style>\n",
              "<table border=\"1\" class=\"dataframe\">\n",
              "  <thead>\n",
              "    <tr style=\"text-align: right;\">\n",
              "      <th></th>\n",
              "      <th>0</th>\n",
              "    </tr>\n",
              "  </thead>\n",
              "  <tbody>\n",
              "    <tr>\n",
              "      <th>id</th>\n",
              "      <td>0</td>\n",
              "    </tr>\n",
              "    <tr>\n",
              "      <th>article</th>\n",
              "      <td>0</td>\n",
              "    </tr>\n",
              "    <tr>\n",
              "      <th>highlights</th>\n",
              "      <td>0</td>\n",
              "    </tr>\n",
              "  </tbody>\n",
              "</table>\n",
              "</div><br><label><b>dtype:</b> int64</label>"
            ]
          },
          "metadata": {},
          "execution_count": 59
        }
      ]
    },
    {
      "cell_type": "code",
      "source": [
        "validation.isnull().sum()\n"
      ],
      "metadata": {
        "colab": {
          "base_uri": "https://localhost:8080/",
          "height": 178
        },
        "id": "OK-W-Dx9ePVU",
        "outputId": "8110450d-952b-4c71-aa4d-07ed37e2e3d8"
      },
      "execution_count": 60,
      "outputs": [
        {
          "output_type": "execute_result",
          "data": {
            "text/plain": [
              "id            0\n",
              "article       0\n",
              "highlights    0\n",
              "dtype: int64"
            ],
            "text/html": [
              "<div>\n",
              "<style scoped>\n",
              "    .dataframe tbody tr th:only-of-type {\n",
              "        vertical-align: middle;\n",
              "    }\n",
              "\n",
              "    .dataframe tbody tr th {\n",
              "        vertical-align: top;\n",
              "    }\n",
              "\n",
              "    .dataframe thead th {\n",
              "        text-align: right;\n",
              "    }\n",
              "</style>\n",
              "<table border=\"1\" class=\"dataframe\">\n",
              "  <thead>\n",
              "    <tr style=\"text-align: right;\">\n",
              "      <th></th>\n",
              "      <th>0</th>\n",
              "    </tr>\n",
              "  </thead>\n",
              "  <tbody>\n",
              "    <tr>\n",
              "      <th>id</th>\n",
              "      <td>0</td>\n",
              "    </tr>\n",
              "    <tr>\n",
              "      <th>article</th>\n",
              "      <td>0</td>\n",
              "    </tr>\n",
              "    <tr>\n",
              "      <th>highlights</th>\n",
              "      <td>0</td>\n",
              "    </tr>\n",
              "  </tbody>\n",
              "</table>\n",
              "</div><br><label><b>dtype:</b> int64</label>"
            ]
          },
          "metadata": {},
          "execution_count": 60
        }
      ]
    },
    {
      "cell_type": "markdown",
      "source": [
        "### Data Wrangling"
      ],
      "metadata": {
        "id": "7zoCIRxFeW5Q"
      }
    },
    {
      "cell_type": "code",
      "source": [
        "article_length = train['article'].apply(lambda x: len(re.findall(r'\\w+', x)))\n",
        "train['article'] = train['article'].apply(lambda x: x.lower())\n",
        "train['highlights'] = train['highlights'].apply(lambda x: x.lower())\n",
        "hightlights_length = train['highlights'].apply(lambda x: len(re.findall(r'\\w+', x)))"
      ],
      "metadata": {
        "id": "oTsR6j8TeY8V"
      },
      "execution_count": 61,
      "outputs": []
    },
    {
      "cell_type": "code",
      "source": [
        "print(f\"maximum article length is {article_length.max()}\")\n",
        "print(f\"minimum article length is {article_length.min()}\")\n",
        "print(f\"average article length is {article_length.mean()}\")\n",
        "\n",
        "print(f\"maximum hightlights length is {hightlights_length.max()}\")\n",
        "print(f\"minimum hightlights length is {hightlights_length.min()}\")\n",
        "print(f\"average hightlights length is {hightlights_length.mean()}\")"
      ],
      "metadata": {
        "colab": {
          "base_uri": "https://localhost:8080/"
        },
        "id": "v_MD_WIFemM5",
        "outputId": "5cdd4f92-b857-4616-d8d2-49db8dbc81f5"
      },
      "execution_count": 62,
      "outputs": [
        {
          "output_type": "stream",
          "name": "stdout",
          "text": [
            "maximum article length is 2209\n",
            "minimum article length is 8\n",
            "average article length is 698.4268702566585\n",
            "maximum hightlights length is 1245\n",
            "minimum hightlights length is 3\n",
            "average hightlights length is 49.535252670551316\n"
          ]
        }
      ]
    },
    {
      "cell_type": "code",
      "source": [
        "test['article'][0]"
      ],
      "metadata": {
        "colab": {
          "base_uri": "https://localhost:8080/",
          "height": 191
        },
        "id": "DAhfX8iKfKLk",
        "outputId": "f0ce20a5-c554-4a71-82e5-9c6ca42c0824"
      },
      "execution_count": 64,
      "outputs": [
        {
          "output_type": "execute_result",
          "data": {
            "text/plain": [
              "\"Ever noticed how plane seats appear to be getting smaller and smaller? With increasing numbers of people taking to the skies, some experts are questioning if having such packed out planes is putting passengers at risk. They say that the shrinking space on aeroplanes is not only uncomfortable - it's putting our health and safety in danger. More than squabbling over the arm rest, shrinking space on planes putting our health and safety in danger? This week, a U.S consumer advisory group set up by the Department of Transportation said at a public hearing that while the government is happy to set standards for animals flying on planes, it doesn't stipulate a minimum amount of space for humans. 'In a world where animals have more rights to space and food than humans,' said Charlie Leocha, consumer representative on the committee.\\xa0'It is time that the DOT and FAA take a stand for humane treatment of passengers.' But could crowding on planes lead to more serious issues than fighting for space in the overhead lockers, crashing elbows and seat back kicking? Tests conducted by the FAA use planes with a 31 inch pitch, a standard which on some airlines has decreased . Many economy seats on United Airlines have 30 inches of room, while some airlines offer as little as 28 inches . Cynthia Corbertt, a human factors researcher with the Federal Aviation Administration, that it conducts tests on how quickly passengers can leave a plane. But these tests are conducted using planes with 31 inches between each row of seats, a standard which on some airlines has decreased, reported the Detroit News. The distance between two seats from one point on a seat to the same point on the seat behind it is known as the pitch. While most airlines stick to a pitch of 31 inches or above, some fall below this. While United Airlines has 30 inches of space, Gulf Air economy seats have between 29 and 32 inches, Air Asia offers 29 inches and Spirit Airlines offers just 28 inches. British Airways has a seat pitch of 31 inches, while easyJet has 29 inches, Thomson's short haul seat pitch is 28 inches, and Virgin Atlantic's is 30-31.\""
            ],
            "application/vnd.google.colaboratory.intrinsic+json": {
              "type": "string"
            }
          },
          "metadata": {},
          "execution_count": 64
        }
      ]
    },
    {
      "cell_type": "code",
      "source": [
        "test.shape"
      ],
      "metadata": {
        "colab": {
          "base_uri": "https://localhost:8080/"
        },
        "id": "eF_1DElYfM7c",
        "outputId": "035e6e8e-07d4-4a80-ef05-e6c737edc9a2"
      },
      "execution_count": 66,
      "outputs": [
        {
          "output_type": "execute_result",
          "data": {
            "text/plain": [
              "(11490, 3)"
            ]
          },
          "metadata": {},
          "execution_count": 66
        }
      ]
    },
    {
      "cell_type": "code",
      "source": [
        "article_length_test = test['article'].apply(lambda x: len(re.findall(r'\\w+', x)))\n",
        "test['article'] = test['article'].apply(lambda x: x.lower())\n",
        "test['highlights'] = test['highlights'].apply(lambda x: x.lower())\n",
        "hightlights_length_test = test['highlights'].apply(lambda x: len(re.findall(r'\\w+', x)))"
      ],
      "metadata": {
        "id": "iY2zOQZ0fQF4"
      },
      "execution_count": 68,
      "outputs": []
    },
    {
      "cell_type": "code",
      "source": [
        "print(f\"maximum article length is {article_length_test.max()}\")\n",
        "print(f\"minimum article length is {article_length_test.min()}\")\n",
        "print(f\"average article length is {article_length_test.mean()}\")\n",
        "\n",
        "print(f\"maximum hightlights length is {hightlights_length_test.max()}\")\n",
        "print(f\"minimum hightlights length is {hightlights_length_test.min()}\")\n",
        "print(f\"average hightlights length is {hightlights_length_test.mean()}\")"
      ],
      "metadata": {
        "colab": {
          "base_uri": "https://localhost:8080/"
        },
        "id": "6ogzfpVkfWa8",
        "outputId": "5ad3989a-d07a-46d1-ceb5-67b4a504ad86"
      },
      "execution_count": 69,
      "outputs": [
        {
          "output_type": "stream",
          "name": "stdout",
          "text": [
            "maximum article length is 1936\n",
            "minimum article length is 56\n",
            "average article length is 694.72863359443\n",
            "maximum hightlights length is 524\n",
            "minimum hightlights length is 8\n",
            "average hightlights length is 52.900870322019145\n"
          ]
        }
      ]
    },
    {
      "cell_type": "code",
      "source": [
        "f_ = filter(lambda x: True if x > 1800 else False, article_length)\n",
        "print(f'no of article with length greater than 1800 is {len([i for i in f_])}')\n",
        "\n",
        "h_ = filter(lambda x: True if x > 500 else False, article_length)\n",
        "print(f'no of highlight with length greater than 500 is {len([i for i in h_])}')"
      ],
      "metadata": {
        "colab": {
          "base_uri": "https://localhost:8080/"
        },
        "id": "1kaBRqRZffTR",
        "outputId": "6d5ed36b-827b-4357-f2f3-3d6e1676aef8"
      },
      "execution_count": 70,
      "outputs": [
        {
          "output_type": "stream",
          "name": "stdout",
          "text": [
            "no of article with length greater than 1800 is 565\n",
            "no of highlight with length greater than 500 is 195321\n"
          ]
        }
      ]
    },
    {
      "cell_type": "code",
      "source": [
        "article_length_validation = validation['article'].apply(lambda x: len(re.findall(r'\\w+', x)))\n",
        "validation['article'] = validation['article'].apply(lambda x: x.lower())\n",
        "validation['highlights'] = validation['highlights'].apply(lambda x: x.lower())\n",
        "hightlights_length_validation = validation['highlights'].apply(lambda x: len(re.findall(r'\\w+', x)))"
      ],
      "metadata": {
        "id": "V04eVDjCfh8N"
      },
      "execution_count": 72,
      "outputs": []
    },
    {
      "cell_type": "code",
      "source": [
        "print(f\"maximum article length is {article_length_validation.max()}\")\n",
        "print(f\"minimum article length is {article_length_validation.min()}\")\n",
        "print(f\"average article length is {article_length_validation.mean()}\")\n",
        "\n",
        "print(f\"maximum hightlights length is {hightlights_length_validation.max()}\")\n",
        "print(f\"minimum hightlights length is {hightlights_length_validation.min()}\")\n",
        "print(f\"average hightlights length is {hightlights_length_validation.mean()}\")"
      ],
      "metadata": {
        "colab": {
          "base_uri": "https://localhost:8080/"
        },
        "id": "dDaYO8VHfk4V",
        "outputId": "3be3e10c-ab67-47ce-fa32-45865e847653"
      },
      "execution_count": 73,
      "outputs": [
        {
          "output_type": "stream",
          "name": "stdout",
          "text": [
            "maximum article length is 1901\n",
            "minimum article length is 43\n",
            "average article length is 686.9938659485338\n",
            "maximum hightlights length is 1476\n",
            "minimum hightlights length is 9\n",
            "average hightlights length is 55.69367145421903\n"
          ]
        }
      ]
    },
    {
      "cell_type": "code",
      "source": [],
      "metadata": {
        "id": "utATJhJWfsjT"
      },
      "execution_count": null,
      "outputs": []
    }
  ]
}
